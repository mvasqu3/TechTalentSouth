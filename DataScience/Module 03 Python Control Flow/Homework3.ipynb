{
 "cells": [
  {
   "cell_type": "markdown",
   "metadata": {},
   "source": [
    "Exercise 1\n",
    "Guess a number between 1 to 9 given by the user"
   ]
  },
  {
   "cell_type": "code",
   "execution_count": 43,
   "metadata": {},
   "outputs": [
    {
     "name": "stdout",
     "output_type": "stream",
     "text": [
      "Guess a number between 1 and 10 until you get it right : 5\n",
      "Guess a number between 1 and 10 until you get it right : 1\n",
      "Guess a number between 1 and 10 until you get it right : 2\n",
      "Guess a number between 1 and 10 until you get it right : 3\n",
      "You guessed correct!\n"
     ]
    }
   ],
   "source": [
    "target_num, guess_num = random.randint(1, 10), 0\n",
    "while target_num != guess_num:\n",
    "    guess_num = int(input('Guess a number between 1 and 10 until you get it right : '))\n",
    "print('You guessed correct!')"
   ]
  },
  {
   "cell_type": "markdown",
   "metadata": {},
   "source": [
    "Exercise 2\n",
    "Check the validity of password input by the user.\n",
    "\n",
    "Validation:\n",
    "\n",
    "At least 1 letter between [a-z] and 1 letter between [A-Z]\n",
    "At least 1 number between [0-9]\n",
    "At least 1 character from [$#@]\n",
    "Minimum length 6 characters\n",
    "Maximum length 16 characters"
   ]
  },
  {
   "cell_type": "code",
   "execution_count": 4,
   "metadata": {},
   "outputs": [
    {
     "name": "stdout",
     "output_type": "stream",
     "text": [
      "input your password: aa12A@ vg\n",
      "Valid Password\n"
     ]
    }
   ],
   "source": [
    "import re\n",
    "\n",
    "p = input(\"input your password: \")\n",
    "x = True \n",
    "while x:\n",
    "    if (len(p)<6 or len(p)>16):\n",
    "        break\n",
    "    elif not re.search(\"[a-z]\",p):\n",
    "        break\n",
    "    elif not re.search(\"[0-9]\",p):\n",
    "        break\n",
    "    elif not re.search(\"[A-Z]\",p):\n",
    "        break\n",
    "    elif not re.search(\"[$#@]\",p):\n",
    "        break\n",
    "    elif not re.search(\"\\s\",p):\n",
    "        break\n",
    "    else:\n",
    "        print(\"Valid Password\")\n",
    "        x = False\n",
    "        break\n",
    "if x:\n",
    "    print(\"Not a valid Password\")"
   ]
  },
  {
   "cell_type": "markdown",
   "metadata": {},
   "source": [
    "Exercise 3\n",
    "Get input of the age of 3 people by user and determine oldest and youngest among them"
   ]
  },
  {
   "cell_type": "code",
   "execution_count": 42,
   "metadata": {},
   "outputs": [
    {
     "name": "stdout",
     "output_type": "stream",
     "text": [
      "Enter first age: 8\n",
      "Enter second age: 7\n",
      "Enter third age: 5\n",
      "The oldest is 8\n",
      "the baby is 5\n"
     ]
    }
   ],
   "source": [
    "first=int(input(\"Enter first age: \"))\n",
    "second=int(input(\"Enter second age: \"))\n",
    "third=int(input(\"Enter third age: \"))\n",
    "\n",
    "if first >= second and first >= third:\n",
    "    print(\"The oldest is\", first)\n",
    "elif second >= first and second >= third:   \n",
    "    print(\"the oldest is\", second) \n",
    "elif third >= second and third >= second: \n",
    "    print(\"the oldest is\", third) \n",
    "    \n",
    "if first <= second and first <= third:\n",
    "    print(\"The baby is\", first)\n",
    "elif second <= first and second <= third:   \n",
    "    print(\"the baby is\", second) \n",
    "elif third <= second and third <= second: \n",
    "    print(\"the baby is\", third) "
   ]
  },
  {
   "cell_type": "markdown",
   "metadata": {},
   "source": [
    "Exercise 4\n",
    "A student will not be allowed to sit in exam if his/her attendance is less than 75%."
   ]
  },
  {
   "cell_type": "code",
   "execution_count": 5,
   "metadata": {},
   "outputs": [
    {
     "name": "stdout",
     "output_type": "stream",
     "text": [
      "how many classes:5\n",
      "how many classes missed:2\n",
      "precentage of class attended 0.6\n",
      "Student cannot sit in the exam\n"
     ]
    }
   ],
   "source": [
    "classes=int(input(\"how many classes:\" ))\n",
    "missed=int(input(\"how many classes missed:\"))\n",
    "percent = float(classes-missed)/classes\n",
    "print(\"precentage of class attended\" , percent)\n",
    "\n",
    "if percent < 0.75:\n",
    "    print(\"Student cannot sit in the exam\")\n",
    "else:\n",
    "    print(\"Student may sit in the exam\")"
   ]
  },
  {
   "cell_type": "markdown",
   "metadata": {},
   "source": [
    "Exercise 5\n",
    "Get an integer N from the user and perform the following actions:"
   ]
  },
  {
   "cell_type": "code",
   "execution_count": 32,
   "metadata": {},
   "outputs": [
    {
     "name": "stdout",
     "output_type": "stream",
     "text": [
      "please input an integer: 3\n",
      "weird\n"
     ]
    }
   ],
   "source": [
    "yournumber=int(input(\"please input an integer: \" ))\n",
    "if (yournumber % 2) != 0:\n",
    "    print(\"weird\")\n",
    "elif yournumber in range(2, 5):\n",
    "    print(\"not weird\")\n",
    "elif yournumber in range(6, 20):\n",
    "    print(\"weird\")\n",
    "elif yournumber > 20:\n",
    "    print(\"not weird\")"
   ]
  }
 ],
 "metadata": {
  "kernelspec": {
   "display_name": "Python 3",
   "language": "python",
   "name": "python3"
  },
  "language_info": {
   "codemirror_mode": {
    "name": "ipython",
    "version": 3
   },
   "file_extension": ".py",
   "mimetype": "text/x-python",
   "name": "python",
   "nbconvert_exporter": "python",
   "pygments_lexer": "ipython3",
   "version": "3.8.3"
  }
 },
 "nbformat": 4,
 "nbformat_minor": 4
}
