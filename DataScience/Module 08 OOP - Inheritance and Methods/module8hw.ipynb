{
 "cells": [
  {
   "cell_type": "code",
   "execution_count": null,
   "metadata": {},
   "outputs": [],
   "source": [
    "You are given two classes, Person and Student, where Person is the base class and Student is the derived class. \n",
    "Completed code for Person and a declaration for Student are provided for you in the editor. Observe that Student inherits all the properties of Person.\n",
    "\n",
    "Complete the Student class by writing the following:\n",
    "A Student class constructor, which has 4 parameters:\n",
    "- A string, firstName\n",
    "- A string, lastName\n",
    "- An integer, id\n",
    "An integer array (or vector) of test scores, scores\n",
    "\n",
    "A char calculate() method that calculates a Student object's average and returns the grade character representative of their calculated average:\n",
    "A | 90-100\n",
    "B | 80-89\n",
    "C | 70-79\n",
    "D | 60-69\n",
    "F | <60"
   ]
  },
  {
   "cell_type": "code",
   "execution_count": 12,
   "metadata": {},
   "outputs": [
    {
     "name": "stdout",
     "output_type": "stream",
     "text": [
      "Hello! please input student first name mar\n",
      "Hello! please input student last name vas\n",
      "Hello! please input student id #: 78\n",
      " PLease enter an array of student test scores([]): 75 80 90\n",
      "The Student got a letter grade of  B  for the year.\n"
     ]
    }
   ],
   "source": [
    "class Person(object):\n",
    "    first = \"\"\n",
    "    last = \"\"\n",
    "    def __init__(self, first, last):\n",
    "        self.first = str(first)\n",
    "        self.last = str(last)\n",
    "    \n",
    "class Student(Person):\n",
    "  \n",
    "    def __init__(self, first, last, id, grade):\n",
    "        super().__init__(first, last)\n",
    "        self.id = id\n",
    "        self.scores = scores\n",
    "        \n",
    "    def __avg__(self, scores):        \n",
    "        avg = sum(scores)/len(scores)\n",
    "        return avg\n",
    "    \n",
    "    def __calculate__(self, avg):\n",
    "        if 90<=avg<=100:\n",
    "            return \"A\"\n",
    "        elif 80<=avg<=89:\n",
    "            return \"B\"        \n",
    "        elif 70<=avg<=79:\n",
    "            return \"C\"\n",
    "        elif 60<=avg<=69:\n",
    "            return \"D\"  \n",
    "        else: \n",
    "            return \"F\"\n",
    "        \n",
    "first = input(\"Hello! please input student first name \")\n",
    "last = input(\"Hello! please input student last name \")\n",
    "id = int(input(\"Hello! please input student id #: \"))\n",
    "scores = list(map(int, input(\" PLease enter an array of student test scores (space-separated): \").split(' ')))\n",
    "\n",
    "#first, last, id, scores = \"jerry\", \"smith\", 4, [50, 75, 89, 100, 88]\n",
    "\n",
    "student1 = Student(first, last, id, scores)\n",
    "avg = student1.__avg__(scores)\n",
    "grade = student1.__calculate__(avg)\n",
    "print(\"The Student got a letter grade of \", grade, \" for the year.\")"
   ]
  },
  {
   "cell_type": "code",
   "execution_count": null,
   "metadata": {},
   "outputs": [],
   "source": []
  }
 ],
 "metadata": {
  "kernelspec": {
   "display_name": "Python 3",
   "language": "python",
   "name": "python3"
  },
  "language_info": {
   "codemirror_mode": {
    "name": "ipython",
    "version": 3
   },
   "file_extension": ".py",
   "mimetype": "text/x-python",
   "name": "python",
   "nbconvert_exporter": "python",
   "pygments_lexer": "ipython3",
   "version": "3.8.3"
  }
 },
 "nbformat": 4,
 "nbformat_minor": 4
}
